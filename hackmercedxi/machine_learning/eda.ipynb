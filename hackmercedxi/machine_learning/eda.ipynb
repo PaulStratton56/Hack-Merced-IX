{
 "cells": [
  {
   "cell_type": "code",
   "execution_count": 2,
   "metadata": {},
   "outputs": [],
   "source": [
    "import numpy as np\n",
    "import matplotlib.pyplot as plt\n",
    "import pandas as pd"
   ]
  },
  {
   "cell_type": "code",
   "execution_count": 3,
   "metadata": {},
   "outputs": [
    {
     "data": {
      "text/plain": [
       "(441456, 330)"
      ]
     },
     "execution_count": 3,
     "metadata": {},
     "output_type": "execute_result"
    }
   ],
   "source": [
    "\n",
    "path = '../diabetesData/2015.csv'\n",
    "df = pd.read_csv(path)\n",
    "df.shape"
   ]
  },
  {
   "cell_type": "code",
   "execution_count": 12,
   "metadata": {},
   "outputs": [
    {
     "name": "stdout",
     "output_type": "stream",
     "text": [
      "First few rows of the dataset:\n",
      "(441456, 22)\n",
      "\n",
      "Missing values:\n",
      "GENHLTH          2\n",
      "MENTHLTH         0\n",
      "CHECKUP1         1\n",
      "_RFHYPE5         0\n",
      "BPMEDS      263268\n",
      "_RFCHOL      59154\n",
      "_MICHD        3942\n",
      "CVDSTRK3         0\n",
      "CHCSCNCR         1\n",
      "CHCCOPD1         0\n",
      "ADDEPEV2         0\n",
      "CHCKIDNY         0\n",
      "DIABETE3         7\n",
      "SEX              0\n",
      "INCOME2       3301\n",
      "DIFFWALK     12334\n",
      "_SMOKER3         0\n",
      "_AGE80           0\n",
      "_BMI5        36398\n",
      "_EDUCAG          0\n",
      "_DRNKWEK         0\n",
      "_TOTINDA         0\n",
      "dtype: int64\n"
     ]
    }
   ],
   "source": [
    "selected_features = ['GENHLTH',\n",
    "                    'MENTHLTH',\n",
    "                    'CHECKUP1',\n",
    "                    '_RFHYPE5',\n",
    "                    'BPMEDS',\n",
    "                    '_RFCHOL',\n",
    "                    '_MICHD',\n",
    "                    'CVDSTRK3',\n",
    "                    'CHCSCNCR',\n",
    "                    \"CHCCOPD1\",\n",
    "                    \"ADDEPEV2\",\n",
    "                    'CHCKIDNY',\n",
    "                    'DIABETE3',\n",
    "                    \"SEX\",\n",
    "                    \"INCOME2\",\n",
    "                    \"DIFFWALK\",\n",
    "                    \"_SMOKER3\",\n",
    "                    \"_AGE80\",\n",
    "                    \"_BMI5\",\n",
    "                    \"_EDUCAG\",\n",
    "                    \"_DRNKWEK\",\n",
    "                    \"_TOTINDA\"]\n",
    "\n",
    "df = df[selected_features]\n",
    "\n",
    "# Display the first few rows of the dataset\n",
    "print(\"First few rows of the dataset:\")\n",
    "print(df.shape)\n",
    "\n",
    "# Check for missing values\n",
    "print(\"\\nMissing values:\")\n",
    "print(df.isnull().sum())"
   ]
  },
  {
   "cell_type": "code",
   "execution_count": null,
   "metadata": {},
   "outputs": [],
   "source": [
    "# Histogram of a numerical variable\n",
    "plt.figure(figsize=(8, 6))\n",
    "plt.hist(df['numerical_column'], bins=20, color='skyblue', edgecolor='black')\n",
    "plt.title('Histogram of Numerical Column')\n",
    "plt.xlabel('Value')\n",
    "plt.ylabel('Frequency')\n",
    "plt.show()\n",
    "\n",
    "# Bar chart of a categorical variable\n",
    "plt.figure(figsize=(8, 6))\n",
    "df['categorical_column'].value_counts().plot(kind='bar', color='skyblue')\n",
    "plt.title('Bar Chart of Categorical Column')\n",
    "plt.xlabel('Category')\n",
    "plt.ylabel('Count')\n",
    "plt.xticks(rotation=45)\n",
    "plt.show()\n",
    "\n",
    "# Scatter plot of two numerical variables\n",
    "plt.figure(figsize=(8, 6))\n",
    "plt.scatter(df['numerical_column1'], df['numerical_column2'], color='skyblue')\n",
    "plt.title('Scatter Plot of Numerical Columns')\n",
    "plt.xlabel('Numerical Column 1')\n",
    "plt.ylabel('Numerical Column 2')\n",
    "plt.show()\n"
   ]
  },
  {
   "cell_type": "code",
   "execution_count": null,
   "metadata": {},
   "outputs": [],
   "source": []
  }
 ],
 "metadata": {
  "kernelspec": {
   "display_name": "hackmerced",
   "language": "python",
   "name": "python3"
  },
  "language_info": {
   "codemirror_mode": {
    "name": "ipython",
    "version": 3
   },
   "file_extension": ".py",
   "mimetype": "text/x-python",
   "name": "python",
   "nbconvert_exporter": "python",
   "pygments_lexer": "ipython3",
   "version": "3.12.2"
  }
 },
 "nbformat": 4,
 "nbformat_minor": 2
}
