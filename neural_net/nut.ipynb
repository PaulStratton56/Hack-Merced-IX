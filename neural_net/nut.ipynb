{
 "cells": [
  {
   "cell_type": "code",
   "execution_count": 1,
   "metadata": {},
   "outputs": [],
   "source": [
    "import numpy as np\n",
    "import torch\n",
    "import torch.nn as nn\n",
    "import torch.optim as optim\n",
    "import pandas as pd\n",
    "from torch.utils.data import DataLoader, TensorDataset\n",
    "from sklearn.model_selection import train_test_split\n",
    "from sklearn.metrics import accuracy_score, confusion_matrix,ConfusionMatrixDisplay\n",
    "import matplotlib.pyplot as plt\n",
    "\n",
    "from network import network"
   ]
  },
  {
   "cell_type": "code",
   "execution_count": 2,
   "metadata": {},
   "outputs": [],
   "source": [
    "# Step 1: Load and preprocess the data\n",
    "data = pd.read_csv('../hackmercedxi/diabetesData/diabetes_clean_2015.csv')\n",
    "target ='DIABETE3'\n",
    "X = data.copy()  # Input features\n",
    "Y = data[target]    # Target labels"
   ]
  },
  {
   "cell_type": "code",
   "execution_count": 3,
   "metadata": {},
   "outputs": [],
   "source": [
    "def train_model(model, train_loader, criterion, optimizer, device, num_epochs=10):\n",
    "    model.train()\n",
    "    loss_func = nn.BCEWithLogitsLoss()\n",
    "    for epoch in range(num_epochs):\n",
    "        running_loss = 0.0\n",
    "        for batch_idx, (data, target) in enumerate(train_loader):\n",
    "            data.to(device)\n",
    "            target.to(device)\n",
    "            optimizer.zero_grad()\n",
    "            try:\n",
    "                output = model(data)\n",
    "            except Exception as e:\n",
    "                print(f\"An error occurred during forward pass: {e}\")\n",
    "                return 0\n",
    "            try:\n",
    "                loss = loss_func(output, target)\n",
    "                loss.backward()\n",
    "                optimizer.step()\n",
    "                running_loss += loss.item()\n",
    "            except Exception as e:\n",
    "                print(f\"An error occurred during backward pass: {e}\")\n",
    "                return 1\n",
    "        print(f'Epoch [{epoch+1}/{num_epochs}], Loss: {running_loss/batch_idx}')\n",
    "            \n"
   ]
  },
  {
   "cell_type": "code",
   "execution_count": 4,
   "metadata": {},
   "outputs": [
    {
     "name": "stdout",
     "output_type": "stream",
     "text": [
      "Device: cpu\n",
      "Number of batches in train_loader: 828\n",
      "Number of batches in test_loader: 207\n"
     ]
    }
   ],
   "source": [
    "# Step 3: Move the model and data to the GPU if available\n",
    "device = torch.device(\"cuda\" if torch.cuda.is_available() else \"cpu\")\n",
    "print(f\"Device: {device}\")\n",
    "model = network().to(device)\n",
    "\n",
    "x_train, x_test, y_train, y_test = train_test_split(X.to_numpy(), np.expand_dims(Y.to_numpy(),axis=1), test_size=0.2, random_state=42)\n",
    "\n",
    "X_train_tensor = torch.tensor(x_train, dtype=torch.float32)\n",
    "X_test_tensor = torch.tensor(x_test, dtype=torch.float32)\n",
    "y_train_tensor = torch.tensor(y_train, dtype=torch.float32)\n",
    "y_test_tensor = torch.tensor(y_test, dtype=torch.float32)\n",
    "\n",
    "# Create TensorDatasets\n",
    "train_dataset = TensorDataset(X_train_tensor, y_train_tensor)\n",
    "test_dataset = TensorDataset(X_test_tensor, y_test_tensor)\n",
    "\n",
    "batch_size = 256\n",
    "\n",
    "# Create DataLoader\n",
    "train_loader = DataLoader(train_dataset, batch_size=batch_size, shuffle=True)\n",
    "test_loader = DataLoader(test_dataset, batch_size=batch_size, shuffle=False)\n",
    "\n",
    "print(\"Number of batches in train_loader:\", len(train_loader))\n",
    "print(\"Number of batches in test_loader:\", len(test_loader))\n"
   ]
  },
  {
   "cell_type": "code",
   "execution_count": 8,
   "metadata": {},
   "outputs": [
    {
     "name": "stdout",
     "output_type": "stream",
     "text": [
      "Epoch [1/10], Loss: 0.6939853290692782\n",
      "Epoch [2/10], Loss: 0.6939853290692782\n",
      "Epoch [3/10], Loss: 0.6939853290692782\n",
      "Epoch [4/10], Loss: 0.6939853290692782\n",
      "Epoch [5/10], Loss: 0.6939853290692782\n",
      "Epoch [6/10], Loss: 0.6939853290692782\n",
      "Epoch [7/10], Loss: 0.6939853290692782\n",
      "Epoch [8/10], Loss: 0.6939853290692782\n",
      "Epoch [9/10], Loss: 0.6939853290692782\n",
      "Epoch [10/10], Loss: 0.6939853290692782\n"
     ]
    }
   ],
   "source": [
    "# Step 5: Define a loss function and optimizer\n",
    "criterion = nn.CrossEntropyLoss()\n",
    "optimizer = optim.Adam(model.parameters(), lr=.01)\n",
    "\n",
    "train_model(model, train_loader, criterion, optimizer, device, num_epochs=10)"
   ]
  },
  {
   "cell_type": "code",
   "execution_count": 10,
   "metadata": {},
   "outputs": [],
   "source": [
    "# Step 8: Save the trained model parameters\n",
    "torch.save(model.state_dict(), 'model.pth')"
   ]
  },
  {
   "cell_type": "code",
   "execution_count": 9,
   "metadata": {},
   "outputs": [
    {
     "name": "stdout",
     "output_type": "stream",
     "text": [
      "Accuracy: 0.8605740181268882\n"
     ]
    },
    {
     "data": {
      "image/png": "[encoded data removed]",
      "text/plain": [
       "<Figure size 640x480 with 2 Axes>"
      ]
     },
     "metadata": {},
     "output_type": "display_data"
    }
   ],
   "source": [
    "model.eval()\n",
    "\n",
    "# Step 2: Initialize lists to store predictions and true labels\n",
    "all_predictions = []\n",
    "all_targets = []\n",
    "\n",
    "# Step 3: Iterate through the test DataLoader\n",
    "with torch.no_grad():  # No need to calculate gradients during inference\n",
    "    for inputs, targets in test_loader:\n",
    "        inputs = inputs.to(device)\n",
    "        targets = targets.to(device)\n",
    "\n",
    "        # Step 4: Perform inference\n",
    "        outputs = model(inputs)\n",
    "        predictions = torch.round(outputs)  # For binary classification with sigmoid activation\n",
    "\n",
    "        # Step 5: Store predictions and true labels\n",
    "        all_predictions.extend(predictions.cpu().numpy())\n",
    "        all_targets.extend(targets.cpu().numpy())\n",
    "\n",
    "# Step 6: Calculate accuracy\n",
    "accuracy = accuracy_score(all_targets, all_predictions)\n",
    "print(\"Accuracy:\", accuracy)\n",
    "\n",
    "# Step 7: Compute confusion matrix\n",
    "conf_matrix = confusion_matrix(all_targets, all_predictions)\n",
    "disp = ConfusionMatrixDisplay(confusion_matrix=conf_matrix, display_labels=data['DIABETE3'].unique())  # Adjust display_labels if needed\n",
    "disp.plot()\n",
    "plt.show()"
   ]
  }
 ],
 "metadata": {
  "kernelspec": {
   "display_name": "Python 3",
   "language": "python",
   "name": "python3"
  },
  "language_info": {
   "codemirror_mode": {
    "name": "ipython",
    "version": 3
   },
   "file_extension": ".py",
   "mimetype": "text/x-python",
   "name": "python",
   "nbconvert_exporter": "python",
   "pygments_lexer": "ipython3",
   "version": "3.9.18"
  }
 },
 "nbformat": 4,
 "nbformat_minor": 2
}
